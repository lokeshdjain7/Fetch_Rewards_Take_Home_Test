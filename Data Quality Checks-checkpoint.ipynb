{
 "cells": [
  {
   "cell_type": "code",
   "execution_count": 42,
   "id": "d17cf974-033c-410e-8d24-b27cf92294ae",
   "metadata": {},
   "outputs": [],
   "source": [
    "import pandas as pd\n",
    "import json\n",
    "from datetime import datetime\n",
    "from ast import literal_eval"
   ]
  },
  {
   "cell_type": "code",
   "execution_count": 43,
   "id": "9e188d73-e8f5-449a-823f-5917745d5a9f",
   "metadata": {},
   "outputs": [],
   "source": [
    "#loading the json file into a dataframe\n",
    "receipts = pd.read_json(r'receipts.json', lines=True, encoding='utf-8')"
   ]
  },
  {
   "cell_type": "code",
   "execution_count": 44,
   "id": "64353ddb-ea47-407e-956a-3cb81275853d",
   "metadata": {},
   "outputs": [
    {
     "name": "stdout",
     "output_type": "stream",
     "text": [
      "<class 'pandas.core.frame.DataFrame'>\n",
      "RangeIndex: 1119 entries, 0 to 1118\n",
      "Data columns (total 15 columns):\n",
      " #   Column                   Non-Null Count  Dtype  \n",
      "---  ------                   --------------  -----  \n",
      " 0   _id                      1119 non-null   object \n",
      " 1   bonusPointsEarned        544 non-null    float64\n",
      " 2   bonusPointsEarnedReason  544 non-null    object \n",
      " 3   createDate               1119 non-null   object \n",
      " 4   dateScanned              1119 non-null   object \n",
      " 5   finishedDate             568 non-null    object \n",
      " 6   modifyDate               1119 non-null   object \n",
      " 7   pointsAwardedDate        537 non-null    object \n",
      " 8   pointsEarned             609 non-null    float64\n",
      " 9   purchaseDate             671 non-null    object \n",
      " 10  purchasedItemCount       635 non-null    float64\n",
      " 11  rewardsReceiptItemList   679 non-null    object \n",
      " 12  rewardsReceiptStatus     1119 non-null   object \n",
      " 13  totalSpent               684 non-null    float64\n",
      " 14  userId                   1119 non-null   object \n",
      "dtypes: float64(4), object(11)\n",
      "memory usage: 131.3+ KB\n"
     ]
    }
   ],
   "source": [
    "receipts.info()"
   ]
  },
  {
   "cell_type": "code",
   "execution_count": 45,
   "id": "4f88f526-0255-4796-a88b-2de9836d4a02",
   "metadata": {},
   "outputs": [
    {
     "data": {
      "text/html": [
       "<div>\n",
       "<style scoped>\n",
       "    .dataframe tbody tr th:only-of-type {\n",
       "        vertical-align: middle;\n",
       "    }\n",
       "\n",
       "    .dataframe tbody tr th {\n",
       "        vertical-align: top;\n",
       "    }\n",
       "\n",
       "    .dataframe thead th {\n",
       "        text-align: right;\n",
       "    }\n",
       "</style>\n",
       "<table border=\"1\" class=\"dataframe\">\n",
       "  <thead>\n",
       "    <tr style=\"text-align: right;\">\n",
       "      <th></th>\n",
       "      <th>_id</th>\n",
       "      <th>bonusPointsEarned</th>\n",
       "      <th>bonusPointsEarnedReason</th>\n",
       "      <th>createDate</th>\n",
       "      <th>dateScanned</th>\n",
       "      <th>finishedDate</th>\n",
       "      <th>modifyDate</th>\n",
       "      <th>pointsAwardedDate</th>\n",
       "      <th>pointsEarned</th>\n",
       "      <th>purchaseDate</th>\n",
       "      <th>purchasedItemCount</th>\n",
       "      <th>rewardsReceiptItemList</th>\n",
       "      <th>rewardsReceiptStatus</th>\n",
       "      <th>totalSpent</th>\n",
       "      <th>userId</th>\n",
       "    </tr>\n",
       "  </thead>\n",
       "  <tbody>\n",
       "    <tr>\n",
       "      <th>0</th>\n",
       "      <td>{'$oid': '5ff1e1eb0a720f0523000575'}</td>\n",
       "      <td>500.0</td>\n",
       "      <td>Receipt number 2 completed, bonus point schedu...</td>\n",
       "      <td>{'$date': 1609687531000}</td>\n",
       "      <td>{'$date': 1609687531000}</td>\n",
       "      <td>{'$date': 1609687531000}</td>\n",
       "      <td>{'$date': 1609687536000}</td>\n",
       "      <td>{'$date': 1609687531000}</td>\n",
       "      <td>500.0</td>\n",
       "      <td>{'$date': 1609632000000}</td>\n",
       "      <td>5.0</td>\n",
       "      <td>[{'barcode': '4011', 'description': 'ITEM NOT ...</td>\n",
       "      <td>FINISHED</td>\n",
       "      <td>26.0</td>\n",
       "      <td>5ff1e1eacfcf6c399c274ae6</td>\n",
       "    </tr>\n",
       "    <tr>\n",
       "      <th>1</th>\n",
       "      <td>{'$oid': '5ff1e1bb0a720f052300056b'}</td>\n",
       "      <td>150.0</td>\n",
       "      <td>Receipt number 5 completed, bonus point schedu...</td>\n",
       "      <td>{'$date': 1609687483000}</td>\n",
       "      <td>{'$date': 1609687483000}</td>\n",
       "      <td>{'$date': 1609687483000}</td>\n",
       "      <td>{'$date': 1609687488000}</td>\n",
       "      <td>{'$date': 1609687483000}</td>\n",
       "      <td>150.0</td>\n",
       "      <td>{'$date': 1609601083000}</td>\n",
       "      <td>2.0</td>\n",
       "      <td>[{'barcode': '4011', 'description': 'ITEM NOT ...</td>\n",
       "      <td>FINISHED</td>\n",
       "      <td>11.0</td>\n",
       "      <td>5ff1e194b6a9d73a3a9f1052</td>\n",
       "    </tr>\n",
       "    <tr>\n",
       "      <th>2</th>\n",
       "      <td>{'$oid': '5ff1e1f10a720f052300057a'}</td>\n",
       "      <td>5.0</td>\n",
       "      <td>All-receipts receipt bonus</td>\n",
       "      <td>{'$date': 1609687537000}</td>\n",
       "      <td>{'$date': 1609687537000}</td>\n",
       "      <td>NaN</td>\n",
       "      <td>{'$date': 1609687542000}</td>\n",
       "      <td>NaN</td>\n",
       "      <td>5.0</td>\n",
       "      <td>{'$date': 1609632000000}</td>\n",
       "      <td>1.0</td>\n",
       "      <td>[{'needsFetchReview': False, 'partnerItemId': ...</td>\n",
       "      <td>REJECTED</td>\n",
       "      <td>10.0</td>\n",
       "      <td>5ff1e1f1cfcf6c399c274b0b</td>\n",
       "    </tr>\n",
       "    <tr>\n",
       "      <th>3</th>\n",
       "      <td>{'$oid': '5ff1e1ee0a7214ada100056f'}</td>\n",
       "      <td>5.0</td>\n",
       "      <td>All-receipts receipt bonus</td>\n",
       "      <td>{'$date': 1609687534000}</td>\n",
       "      <td>{'$date': 1609687534000}</td>\n",
       "      <td>{'$date': 1609687534000}</td>\n",
       "      <td>{'$date': 1609687539000}</td>\n",
       "      <td>{'$date': 1609687534000}</td>\n",
       "      <td>5.0</td>\n",
       "      <td>{'$date': 1609632000000}</td>\n",
       "      <td>4.0</td>\n",
       "      <td>[{'barcode': '4011', 'description': 'ITEM NOT ...</td>\n",
       "      <td>FINISHED</td>\n",
       "      <td>28.0</td>\n",
       "      <td>5ff1e1eacfcf6c399c274ae6</td>\n",
       "    </tr>\n",
       "    <tr>\n",
       "      <th>4</th>\n",
       "      <td>{'$oid': '5ff1e1d20a7214ada1000561'}</td>\n",
       "      <td>5.0</td>\n",
       "      <td>All-receipts receipt bonus</td>\n",
       "      <td>{'$date': 1609687506000}</td>\n",
       "      <td>{'$date': 1609687506000}</td>\n",
       "      <td>{'$date': 1609687511000}</td>\n",
       "      <td>{'$date': 1609687511000}</td>\n",
       "      <td>{'$date': 1609687506000}</td>\n",
       "      <td>5.0</td>\n",
       "      <td>{'$date': 1609601106000}</td>\n",
       "      <td>2.0</td>\n",
       "      <td>[{'barcode': '4011', 'description': 'ITEM NOT ...</td>\n",
       "      <td>FINISHED</td>\n",
       "      <td>1.0</td>\n",
       "      <td>5ff1e194b6a9d73a3a9f1052</td>\n",
       "    </tr>\n",
       "  </tbody>\n",
       "</table>\n",
       "</div>"
      ],
      "text/plain": [
       "                                    _id  bonusPointsEarned  \\\n",
       "0  {'$oid': '5ff1e1eb0a720f0523000575'}              500.0   \n",
       "1  {'$oid': '5ff1e1bb0a720f052300056b'}              150.0   \n",
       "2  {'$oid': '5ff1e1f10a720f052300057a'}                5.0   \n",
       "3  {'$oid': '5ff1e1ee0a7214ada100056f'}                5.0   \n",
       "4  {'$oid': '5ff1e1d20a7214ada1000561'}                5.0   \n",
       "\n",
       "                             bonusPointsEarnedReason  \\\n",
       "0  Receipt number 2 completed, bonus point schedu...   \n",
       "1  Receipt number 5 completed, bonus point schedu...   \n",
       "2                         All-receipts receipt bonus   \n",
       "3                         All-receipts receipt bonus   \n",
       "4                         All-receipts receipt bonus   \n",
       "\n",
       "                 createDate               dateScanned  \\\n",
       "0  {'$date': 1609687531000}  {'$date': 1609687531000}   \n",
       "1  {'$date': 1609687483000}  {'$date': 1609687483000}   \n",
       "2  {'$date': 1609687537000}  {'$date': 1609687537000}   \n",
       "3  {'$date': 1609687534000}  {'$date': 1609687534000}   \n",
       "4  {'$date': 1609687506000}  {'$date': 1609687506000}   \n",
       "\n",
       "               finishedDate                modifyDate  \\\n",
       "0  {'$date': 1609687531000}  {'$date': 1609687536000}   \n",
       "1  {'$date': 1609687483000}  {'$date': 1609687488000}   \n",
       "2                       NaN  {'$date': 1609687542000}   \n",
       "3  {'$date': 1609687534000}  {'$date': 1609687539000}   \n",
       "4  {'$date': 1609687511000}  {'$date': 1609687511000}   \n",
       "\n",
       "          pointsAwardedDate  pointsEarned              purchaseDate  \\\n",
       "0  {'$date': 1609687531000}         500.0  {'$date': 1609632000000}   \n",
       "1  {'$date': 1609687483000}         150.0  {'$date': 1609601083000}   \n",
       "2                       NaN           5.0  {'$date': 1609632000000}   \n",
       "3  {'$date': 1609687534000}           5.0  {'$date': 1609632000000}   \n",
       "4  {'$date': 1609687506000}           5.0  {'$date': 1609601106000}   \n",
       "\n",
       "   purchasedItemCount                             rewardsReceiptItemList  \\\n",
       "0                 5.0  [{'barcode': '4011', 'description': 'ITEM NOT ...   \n",
       "1                 2.0  [{'barcode': '4011', 'description': 'ITEM NOT ...   \n",
       "2                 1.0  [{'needsFetchReview': False, 'partnerItemId': ...   \n",
       "3                 4.0  [{'barcode': '4011', 'description': 'ITEM NOT ...   \n",
       "4                 2.0  [{'barcode': '4011', 'description': 'ITEM NOT ...   \n",
       "\n",
       "  rewardsReceiptStatus  totalSpent                    userId  \n",
       "0             FINISHED        26.0  5ff1e1eacfcf6c399c274ae6  \n",
       "1             FINISHED        11.0  5ff1e194b6a9d73a3a9f1052  \n",
       "2             REJECTED        10.0  5ff1e1f1cfcf6c399c274b0b  \n",
       "3             FINISHED        28.0  5ff1e1eacfcf6c399c274ae6  \n",
       "4             FINISHED         1.0  5ff1e194b6a9d73a3a9f1052  "
      ]
     },
     "execution_count": 45,
     "metadata": {},
     "output_type": "execute_result"
    }
   ],
   "source": [
    "receipts.head()"
   ]
  },
  {
   "cell_type": "code",
   "execution_count": 46,
   "id": "95d81b88-2f07-47b5-9f2c-c30617d5c81f",
   "metadata": {},
   "outputs": [],
   "source": [
    "#The Dates here are in UNIX timestamp inside the dictionary field.\n",
    "#This function converts the value into datetime format\n",
    "def date_converter(x):\n",
    "  try:\n",
    "    return(datetime.utcfromtimestamp(int(x['$date'])/1000).strftime('%Y-%m-%d %H:%M:%S'))\n",
    "  except TypeError:\n",
    "    return(None)"
   ]
  },
  {
   "cell_type": "code",
   "execution_count": 47,
   "id": "b87039a0-00b5-48e9-9c44-7ad90685a089",
   "metadata": {},
   "outputs": [],
   "source": [
    "receipts['createDate'] = receipts['createDate'].apply(lambda x: date_converter(x))\n",
    "receipts['dateScanned'] = receipts['dateScanned'].apply(lambda x: date_converter(x))\n",
    "receipts['finishedDate'] = receipts['finishedDate'].apply(lambda x: date_converter(x))\n",
    "receipts['modifyDate'] = receipts['modifyDate'].apply(lambda x: date_converter(x))\n",
    "receipts['pointsAwardedDate'] = receipts['pointsAwardedDate'].apply(lambda x: date_converter(x))\n",
    "receipts['purchaseDate'] = receipts['purchaseDate'].apply(lambda x: date_converter(x))"
   ]
  },
  {
   "cell_type": "code",
   "execution_count": 48,
   "id": "84604165-ddad-4424-bb04-5637b0b79d6a",
   "metadata": {},
   "outputs": [
    {
     "data": {
      "text/html": [
       "<div>\n",
       "<style scoped>\n",
       "    .dataframe tbody tr th:only-of-type {\n",
       "        vertical-align: middle;\n",
       "    }\n",
       "\n",
       "    .dataframe tbody tr th {\n",
       "        vertical-align: top;\n",
       "    }\n",
       "\n",
       "    .dataframe thead th {\n",
       "        text-align: right;\n",
       "    }\n",
       "</style>\n",
       "<table border=\"1\" class=\"dataframe\">\n",
       "  <thead>\n",
       "    <tr style=\"text-align: right;\">\n",
       "      <th></th>\n",
       "      <th>_id</th>\n",
       "      <th>bonusPointsEarned</th>\n",
       "      <th>bonusPointsEarnedReason</th>\n",
       "      <th>createDate</th>\n",
       "      <th>dateScanned</th>\n",
       "      <th>finishedDate</th>\n",
       "      <th>modifyDate</th>\n",
       "      <th>pointsAwardedDate</th>\n",
       "      <th>pointsEarned</th>\n",
       "      <th>purchaseDate</th>\n",
       "      <th>purchasedItemCount</th>\n",
       "      <th>rewardsReceiptItemList</th>\n",
       "      <th>rewardsReceiptStatus</th>\n",
       "      <th>totalSpent</th>\n",
       "      <th>userId</th>\n",
       "    </tr>\n",
       "  </thead>\n",
       "  <tbody>\n",
       "    <tr>\n",
       "      <th>0</th>\n",
       "      <td>{'$oid': '5ff1e1eb0a720f0523000575'}</td>\n",
       "      <td>500.0</td>\n",
       "      <td>Receipt number 2 completed, bonus point schedu...</td>\n",
       "      <td>2021-01-03 15:25:31</td>\n",
       "      <td>2021-01-03 15:25:31</td>\n",
       "      <td>2021-01-03 15:25:31</td>\n",
       "      <td>2021-01-03 15:25:36</td>\n",
       "      <td>2021-01-03 15:25:31</td>\n",
       "      <td>500.0</td>\n",
       "      <td>2021-01-03 00:00:00</td>\n",
       "      <td>5.0</td>\n",
       "      <td>[{'barcode': '4011', 'description': 'ITEM NOT ...</td>\n",
       "      <td>FINISHED</td>\n",
       "      <td>26.0</td>\n",
       "      <td>5ff1e1eacfcf6c399c274ae6</td>\n",
       "    </tr>\n",
       "    <tr>\n",
       "      <th>1</th>\n",
       "      <td>{'$oid': '5ff1e1bb0a720f052300056b'}</td>\n",
       "      <td>150.0</td>\n",
       "      <td>Receipt number 5 completed, bonus point schedu...</td>\n",
       "      <td>2021-01-03 15:24:43</td>\n",
       "      <td>2021-01-03 15:24:43</td>\n",
       "      <td>2021-01-03 15:24:43</td>\n",
       "      <td>2021-01-03 15:24:48</td>\n",
       "      <td>2021-01-03 15:24:43</td>\n",
       "      <td>150.0</td>\n",
       "      <td>2021-01-02 15:24:43</td>\n",
       "      <td>2.0</td>\n",
       "      <td>[{'barcode': '4011', 'description': 'ITEM NOT ...</td>\n",
       "      <td>FINISHED</td>\n",
       "      <td>11.0</td>\n",
       "      <td>5ff1e194b6a9d73a3a9f1052</td>\n",
       "    </tr>\n",
       "    <tr>\n",
       "      <th>2</th>\n",
       "      <td>{'$oid': '5ff1e1f10a720f052300057a'}</td>\n",
       "      <td>5.0</td>\n",
       "      <td>All-receipts receipt bonus</td>\n",
       "      <td>2021-01-03 15:25:37</td>\n",
       "      <td>2021-01-03 15:25:37</td>\n",
       "      <td>None</td>\n",
       "      <td>2021-01-03 15:25:42</td>\n",
       "      <td>None</td>\n",
       "      <td>5.0</td>\n",
       "      <td>2021-01-03 00:00:00</td>\n",
       "      <td>1.0</td>\n",
       "      <td>[{'needsFetchReview': False, 'partnerItemId': ...</td>\n",
       "      <td>REJECTED</td>\n",
       "      <td>10.0</td>\n",
       "      <td>5ff1e1f1cfcf6c399c274b0b</td>\n",
       "    </tr>\n",
       "    <tr>\n",
       "      <th>3</th>\n",
       "      <td>{'$oid': '5ff1e1ee0a7214ada100056f'}</td>\n",
       "      <td>5.0</td>\n",
       "      <td>All-receipts receipt bonus</td>\n",
       "      <td>2021-01-03 15:25:34</td>\n",
       "      <td>2021-01-03 15:25:34</td>\n",
       "      <td>2021-01-03 15:25:34</td>\n",
       "      <td>2021-01-03 15:25:39</td>\n",
       "      <td>2021-01-03 15:25:34</td>\n",
       "      <td>5.0</td>\n",
       "      <td>2021-01-03 00:00:00</td>\n",
       "      <td>4.0</td>\n",
       "      <td>[{'barcode': '4011', 'description': 'ITEM NOT ...</td>\n",
       "      <td>FINISHED</td>\n",
       "      <td>28.0</td>\n",
       "      <td>5ff1e1eacfcf6c399c274ae6</td>\n",
       "    </tr>\n",
       "    <tr>\n",
       "      <th>4</th>\n",
       "      <td>{'$oid': '5ff1e1d20a7214ada1000561'}</td>\n",
       "      <td>5.0</td>\n",
       "      <td>All-receipts receipt bonus</td>\n",
       "      <td>2021-01-03 15:25:06</td>\n",
       "      <td>2021-01-03 15:25:06</td>\n",
       "      <td>2021-01-03 15:25:11</td>\n",
       "      <td>2021-01-03 15:25:11</td>\n",
       "      <td>2021-01-03 15:25:06</td>\n",
       "      <td>5.0</td>\n",
       "      <td>2021-01-02 15:25:06</td>\n",
       "      <td>2.0</td>\n",
       "      <td>[{'barcode': '4011', 'description': 'ITEM NOT ...</td>\n",
       "      <td>FINISHED</td>\n",
       "      <td>1.0</td>\n",
       "      <td>5ff1e194b6a9d73a3a9f1052</td>\n",
       "    </tr>\n",
       "  </tbody>\n",
       "</table>\n",
       "</div>"
      ],
      "text/plain": [
       "                                    _id  bonusPointsEarned  \\\n",
       "0  {'$oid': '5ff1e1eb0a720f0523000575'}              500.0   \n",
       "1  {'$oid': '5ff1e1bb0a720f052300056b'}              150.0   \n",
       "2  {'$oid': '5ff1e1f10a720f052300057a'}                5.0   \n",
       "3  {'$oid': '5ff1e1ee0a7214ada100056f'}                5.0   \n",
       "4  {'$oid': '5ff1e1d20a7214ada1000561'}                5.0   \n",
       "\n",
       "                             bonusPointsEarnedReason           createDate  \\\n",
       "0  Receipt number 2 completed, bonus point schedu...  2021-01-03 15:25:31   \n",
       "1  Receipt number 5 completed, bonus point schedu...  2021-01-03 15:24:43   \n",
       "2                         All-receipts receipt bonus  2021-01-03 15:25:37   \n",
       "3                         All-receipts receipt bonus  2021-01-03 15:25:34   \n",
       "4                         All-receipts receipt bonus  2021-01-03 15:25:06   \n",
       "\n",
       "           dateScanned         finishedDate           modifyDate  \\\n",
       "0  2021-01-03 15:25:31  2021-01-03 15:25:31  2021-01-03 15:25:36   \n",
       "1  2021-01-03 15:24:43  2021-01-03 15:24:43  2021-01-03 15:24:48   \n",
       "2  2021-01-03 15:25:37                 None  2021-01-03 15:25:42   \n",
       "3  2021-01-03 15:25:34  2021-01-03 15:25:34  2021-01-03 15:25:39   \n",
       "4  2021-01-03 15:25:06  2021-01-03 15:25:11  2021-01-03 15:25:11   \n",
       "\n",
       "     pointsAwardedDate  pointsEarned         purchaseDate  purchasedItemCount  \\\n",
       "0  2021-01-03 15:25:31         500.0  2021-01-03 00:00:00                 5.0   \n",
       "1  2021-01-03 15:24:43         150.0  2021-01-02 15:24:43                 2.0   \n",
       "2                 None           5.0  2021-01-03 00:00:00                 1.0   \n",
       "3  2021-01-03 15:25:34           5.0  2021-01-03 00:00:00                 4.0   \n",
       "4  2021-01-03 15:25:06           5.0  2021-01-02 15:25:06                 2.0   \n",
       "\n",
       "                              rewardsReceiptItemList rewardsReceiptStatus  \\\n",
       "0  [{'barcode': '4011', 'description': 'ITEM NOT ...             FINISHED   \n",
       "1  [{'barcode': '4011', 'description': 'ITEM NOT ...             FINISHED   \n",
       "2  [{'needsFetchReview': False, 'partnerItemId': ...             REJECTED   \n",
       "3  [{'barcode': '4011', 'description': 'ITEM NOT ...             FINISHED   \n",
       "4  [{'barcode': '4011', 'description': 'ITEM NOT ...             FINISHED   \n",
       "\n",
       "   totalSpent                    userId  \n",
       "0        26.0  5ff1e1eacfcf6c399c274ae6  \n",
       "1        11.0  5ff1e194b6a9d73a3a9f1052  \n",
       "2        10.0  5ff1e1f1cfcf6c399c274b0b  \n",
       "3        28.0  5ff1e1eacfcf6c399c274ae6  \n",
       "4         1.0  5ff1e194b6a9d73a3a9f1052  "
      ]
     },
     "execution_count": 48,
     "metadata": {},
     "output_type": "execute_result"
    }
   ],
   "source": [
    "receipts.head()"
   ]
  },
  {
   "cell_type": "code",
   "execution_count": 49,
   "id": "340d2fb3-e268-4014-a211-f2c4bf814e39",
   "metadata": {},
   "outputs": [
    {
     "data": {
      "text/plain": [
       "_id                          0\n",
       "bonusPointsEarned          575\n",
       "bonusPointsEarnedReason    575\n",
       "createDate                   0\n",
       "dateScanned                  0\n",
       "finishedDate               551\n",
       "modifyDate                   0\n",
       "pointsAwardedDate          582\n",
       "pointsEarned               510\n",
       "purchaseDate               448\n",
       "purchasedItemCount         484\n",
       "rewardsReceiptItemList     440\n",
       "rewardsReceiptStatus         0\n",
       "totalSpent                 435\n",
       "userId                       0\n",
       "dtype: int64"
      ]
     },
     "execution_count": 49,
     "metadata": {},
     "output_type": "execute_result"
    }
   ],
   "source": [
    "#total null values per column\n",
    "receipts.isnull().sum()"
   ]
  },
  {
   "cell_type": "code",
   "execution_count": 50,
   "id": "07d2be8f-8211-4e2c-ad02-bfb559c1dfff",
   "metadata": {},
   "outputs": [
    {
     "name": "stdout",
     "output_type": "stream",
     "text": [
      "_id                         0.000000\n",
      "bonusPointsEarned          51.385165\n",
      "bonusPointsEarnedReason    51.385165\n",
      "createDate                  0.000000\n",
      "dateScanned                 0.000000\n",
      "finishedDate               49.240393\n",
      "modifyDate                  0.000000\n",
      "pointsAwardedDate          52.010724\n",
      "pointsEarned               45.576408\n",
      "purchaseDate               40.035746\n",
      "purchasedItemCount         43.252904\n",
      "rewardsReceiptItemList     39.320822\n",
      "rewardsReceiptStatus        0.000000\n",
      "totalSpent                 38.873995\n",
      "userId                      0.000000\n",
      "dtype: float64\n"
     ]
    }
   ],
   "source": [
    "# Calculate the percentage of null values in each column\n",
    "null_percentage = receipts.isnull().mean() * 100\n",
    "print(null_percentage)"
   ]
  },
  {
   "cell_type": "markdown",
   "id": "a929909c-059f-454f-9507-a249dc41599d",
   "metadata": {},
   "source": [
    "### Data Quality Issues: Missing Values\n",
    "Upon reviewing the dataset, we have identified several columns with a significant proportion of missing values, which could impact the accuracy and completeness of analysis. Below are the key observations:\n",
    "\n",
    "Finished Date: Approximately 50% of the records have missing values in the \"Finished Date\" column. This lack of completion timestamps may hinder our ability to track the lifecycle of receipts accurately.\n",
    "\n",
    "Points Awarded Date: 52% of user records lack a \"Points Awarded Date.\" This missing data creates challenges when attempting to understand when points were granted to users and could affect analysis related to points distribution.\n",
    "\n",
    "Points Earned: Around 45% of the \"Points Earned\" values are missing. Notably, the column also contains a NaN value instead of a 0 when points are not awarded. This suggests that the data may not have been captured correctly, or that 0 points are stored as NaN, which could lead to inconsistencies in reporting and analysis.\n",
    "\n",
    "Purchased Item Count & Rewards Receipt Item List: Both of these columns exhibit a large proportion of missing values. This presents a significant challenge for understanding the number of items purchased by users or the details of the rewards items they have redeemed. These gaps hinder our ability to identify trends and perform meaningful analysis in these areas.\n",
    "\n",
    "Total Spent: Approximately 38% of the \"Total Spent\" values are missing. This is a critical issue, as missing expenditure data compromises the integrity of any financial or spending-related analysis, potentially leading to inaccurate insights on customer behavior.\n",
    "\n",
    "### Summary & Next Steps:\n",
    "The presence of missing data across several key columns raises concerns regarding the completeness and accuracy of the dataset.\n",
    "Addressing these missing values is crucial to ensure reliable analysis, especially in areas like user behavior, rewards, and spending patterns.\n",
    "I recommend further investigation into the cause of the missing data, followed by appropriate data imputation or other corrective measures to improve the quality of the dataset."
   ]
  },
  {
   "cell_type": "code",
   "execution_count": 52,
   "id": "d176385a-521b-4e4c-b579-d53729d41fae",
   "metadata": {},
   "outputs": [
    {
     "data": {
      "text/plain": [
       "array([5.00000e+02, 1.50000e+02, 5.00000e+00, 7.50000e+02, 2.50000e+02,\n",
       "       1.00000e+02, 8.85000e+03, 3.00000e+02,         nan, 3.89200e+02,\n",
       "       1.85000e+02, 3.50000e+01, 6.50000e+02, 5.50000e+01, 5.00000e+01,\n",
       "       3.55000e+02, 6.00000e+02, 1.75000e+03, 3.50000e+02, 2.25000e+02,\n",
       "       2.75000e+02, 2.50000e+01, 7.55000e+02, 1.80000e+03, 8.10000e+02,\n",
       "       3.05000e+02, 9.44980e+03, 9.12000e+01, 8.25000e+02, 3.50600e+02,\n",
       "       1.25000e+02, 7.93100e+02, 2.00000e+02, 3.25000e+03, 0.00000e+00,\n",
       "       4.00500e+03, 2.00500e+03, 8.41200e+02, 5.75000e+03, 3.75000e+03,\n",
       "       8.70000e+03, 7.60000e+02, 7.80000e+02, 9.20000e+03, 1.00500e+03,\n",
       "       1.99960e+03, 1.89200e+02, 8.95000e+03, 8.85000e+02, 8.00000e+02,\n",
       "       2.95000e+02, 6.82400e+02, 8.37400e+02, 2.37800e+02, 1.60000e+02,\n",
       "       8.55700e+02, 6.05700e+02, 2.41670e+03, 1.80640e+03, 4.05700e+02,\n",
       "       1.51690e+03, 1.65830e+03, 2.68580e+03, 8.79100e+02, 3.65940e+03,\n",
       "       9.34400e+02, 8.77700e+02, 9.22100e+02, 1.54180e+03, 1.00000e+03,\n",
       "       5.74400e+02, 5.06000e+01, 2.05550e+03, 5.85000e+03, 4.85000e+03,\n",
       "       1.73600e+02, 9.85000e+03, 5.09000e+01, 2.30000e+03, 6.73000e+02,\n",
       "       4.05900e+02, 2.14330e+03, 1.55000e+03, 9.86500e+02, 5.83400e+02,\n",
       "       4.48050e+03, 3.37990e+03, 3.23600e+02, 6.25730e+03, 2.49770e+03,\n",
       "       1.17870e+03, 1.44700e+03, 1.72950e+03, 1.47620e+03, 1.70800e+03,\n",
       "       1.07750e+03, 1.13510e+03, 1.04430e+03, 6.40700e+02, 5.23600e+02,\n",
       "       4.87700e+02, 7.13720e+03, 1.20500e+03, 4.00000e+02, 1.01998e+04,\n",
       "       8.50000e+02, 9.46000e+01, 1.85000e+03, 8.40000e+02, 1.04980e+03,\n",
       "       9.40000e+02, 4.94470e+03, 3.75000e+02, 1.49950e+03, 2.09900e+02,\n",
       "       2.09800e+02, 2.10000e+02, 2.09500e+02, 7.89200e+02, 3.50000e+03])"
      ]
     },
     "execution_count": 52,
     "metadata": {},
     "output_type": "execute_result"
    }
   ],
   "source": [
    "#Unique values\n",
    "receipts.pointsEarned.unique()"
   ]
  },
  {
   "cell_type": "code",
   "execution_count": 39,
   "id": "24bc3835-6df3-4ce2-89d1-6b7445e64402",
   "metadata": {},
   "outputs": [],
   "source": [
    "pd.set_option(\"display.max_rows\", None)"
   ]
  },
  {
   "cell_type": "markdown",
   "id": "a697a271-27c5-4df7-aea5-9147dafa8163",
   "metadata": {},
   "source": [
    "### Out of 1119 rows, totalSpent is non-null only for 684 rows"
   ]
  },
  {
   "cell_type": "code",
   "execution_count": 53,
   "id": "f78a9c05-5fec-4e7c-9d9d-dd6a20602ed6",
   "metadata": {},
   "outputs": [
    {
     "data": {
      "text/plain": [
       "np.int64(684)"
      ]
     },
     "execution_count": 53,
     "metadata": {},
     "output_type": "execute_result"
    }
   ],
   "source": [
    "receipts.totalSpent.value_counts().sum()"
   ]
  },
  {
   "cell_type": "markdown",
   "id": "edd7f55b-3b53-4330-ab8b-f7c45e8ddd86",
   "metadata": {},
   "source": [
    "### There are 15 records with totalSpent value as 0"
   ]
  },
  {
   "cell_type": "code",
   "execution_count": 58,
   "id": "3cb20291-2e4f-446f-9e79-070a3d3cb02f",
   "metadata": {},
   "outputs": [
    {
     "name": "stdout",
     "output_type": "stream",
     "text": [
      "15\n"
     ]
    }
   ],
   "source": [
    "#receipts.totalSpent.value_counts()\n",
    "value_counts = receipts.totalSpent.value_counts()\n",
    "count_of_zero = value_counts[0]\n",
    "print(count_of_zero)"
   ]
  },
  {
   "cell_type": "code",
   "execution_count": 59,
   "id": "90f9b49d-7634-477d-b340-c95a08eb7e20",
   "metadata": {},
   "outputs": [
    {
     "data": {
      "text/plain": [
       "rewardsReceiptStatus\n",
       "FINISHED     46.291332\n",
       "SUBMITTED    38.784629\n",
       "REJECTED      6.344951\n",
       "PENDING       4.468275\n",
       "FLAGGED       4.110813\n",
       "Name: count, dtype: float64"
      ]
     },
     "execution_count": 59,
     "metadata": {},
     "output_type": "execute_result"
    }
   ],
   "source": [
    "#rewardsReceiptStatus percentage split\n",
    "rewardsReceiptStatus_percentage = 100 * (receipts.rewardsReceiptStatus.value_counts() / len(receipts))\n",
    "rewardsReceiptStatus_percentage"
   ]
  },
  {
   "cell_type": "code",
   "execution_count": 60,
   "id": "5fdb9175-509e-4b96-af10-387f014832d1",
   "metadata": {},
   "outputs": [
    {
     "data": {
      "text/plain": [
       "bonusPointsEarnedReason\n",
       "All-receipts receipt bonus                                                             183\n",
       "Receipt number 1 completed, bonus point schedule DEFAULT (5cefdcacf3693e0b50e83a36)    119\n",
       "COMPLETE_NONPARTNER_RECEIPT                                                             71\n",
       "COMPLETE_PARTNER_RECEIPT                                                                39\n",
       "Receipt number 3 completed, bonus point schedule DEFAULT (5cefdcacf3693e0b50e83a36)     31\n",
       "Receipt number 2 completed, bonus point schedule DEFAULT (5cefdcacf3693e0b50e83a36)     30\n",
       "Receipt number 5 completed, bonus point schedule DEFAULT (5cefdcacf3693e0b50e83a36)     27\n",
       "Receipt number 4 completed, bonus point schedule DEFAULT (5cefdcacf3693e0b50e83a36)     26\n",
       "Receipt number 6 completed, bonus point schedule DEFAULT (5cefdcacf3693e0b50e83a36)     18\n",
       "Name: count, dtype: int64"
      ]
     },
     "execution_count": 60,
     "metadata": {},
     "output_type": "execute_result"
    }
   ],
   "source": [
    "receipts.bonusPointsEarnedReason.value_counts()"
   ]
  },
  {
   "cell_type": "markdown",
   "id": "047e7f57-330e-421b-a415-b624f5dcfe59",
   "metadata": {},
   "source": [
    "### Checking for duplicate _id - no duplicate _id found in receipt dataframe"
   ]
  },
  {
   "cell_type": "code",
   "execution_count": 61,
   "id": "4a89ced3-14fc-449a-867a-224b2a6aea59",
   "metadata": {},
   "outputs": [
    {
     "data": {
      "text/plain": [
       "1119"
      ]
     },
     "execution_count": 61,
     "metadata": {},
     "output_type": "execute_result"
    }
   ],
   "source": [
    "receipt_id = set(receipts['_id'].str['$oid'])\n",
    "len(receipt_id)"
   ]
  },
  {
   "cell_type": "markdown",
   "id": "c64ce073-de92-4e17-b579-b5d69619f014",
   "metadata": {},
   "source": [
    "### Receipts Data Quality Check Summary:\n",
    "\n",
    "1. Missing Data Values - multiple columns have missing data that needs to be investigated\n",
    "2. Check for Duplicates in Specific Columns - all the _id are unique\n",
    "3. Check for Data Types and Consistency - converting UNIX timestamp date columns datetime\n",
    "4. Data Integrity Check\n",
    "5. Check for percentage of missing data\n",
    "6. Check for Consistency in Categorical Data - For columns rewardsReceiptStatus, bonusPointsEarnedReason using value_counts()"
   ]
  },
  {
   "cell_type": "markdown",
   "id": "249d51a7-7e8b-4cd7-8c52-83807a1dba73",
   "metadata": {},
   "source": [
    "### Users Data"
   ]
  },
  {
   "cell_type": "code",
   "execution_count": 66,
   "id": "858081d5-40f1-4aab-b5c2-d80103bf8055",
   "metadata": {},
   "outputs": [],
   "source": [
    "#loading the Users data\n",
    "users = pd.read_json(r'users.json', lines=True, encoding='utf-8')"
   ]
  },
  {
   "cell_type": "code",
   "execution_count": 67,
   "id": "4e1bda64-c336-4329-b3e7-4a1fdb331ff4",
   "metadata": {},
   "outputs": [],
   "source": [
    "#converting the date columns into datetime\n",
    "users['createdDate'] = users['createdDate'].apply(lambda x: date_converter(x))\n",
    "users['lastLogin'] = users['lastLogin'].apply(lambda x: date_converter(x))"
   ]
  },
  {
   "cell_type": "code",
   "execution_count": 68,
   "id": "18afc3e9-0f71-497b-826f-b9d763af2bc5",
   "metadata": {},
   "outputs": [
    {
     "data": {
      "text/html": [
       "<div>\n",
       "<style scoped>\n",
       "    .dataframe tbody tr th:only-of-type {\n",
       "        vertical-align: middle;\n",
       "    }\n",
       "\n",
       "    .dataframe tbody tr th {\n",
       "        vertical-align: top;\n",
       "    }\n",
       "\n",
       "    .dataframe thead th {\n",
       "        text-align: right;\n",
       "    }\n",
       "</style>\n",
       "<table border=\"1\" class=\"dataframe\">\n",
       "  <thead>\n",
       "    <tr style=\"text-align: right;\">\n",
       "      <th></th>\n",
       "      <th>_id</th>\n",
       "      <th>active</th>\n",
       "      <th>createdDate</th>\n",
       "      <th>lastLogin</th>\n",
       "      <th>role</th>\n",
       "      <th>signUpSource</th>\n",
       "      <th>state</th>\n",
       "    </tr>\n",
       "  </thead>\n",
       "  <tbody>\n",
       "    <tr>\n",
       "      <th>0</th>\n",
       "      <td>{'$oid': '5ff1e194b6a9d73a3a9f1052'}</td>\n",
       "      <td>True</td>\n",
       "      <td>2021-01-03 15:24:04</td>\n",
       "      <td>2021-01-03 15:25:37</td>\n",
       "      <td>consumer</td>\n",
       "      <td>Email</td>\n",
       "      <td>WI</td>\n",
       "    </tr>\n",
       "    <tr>\n",
       "      <th>1</th>\n",
       "      <td>{'$oid': '5ff1e194b6a9d73a3a9f1052'}</td>\n",
       "      <td>True</td>\n",
       "      <td>2021-01-03 15:24:04</td>\n",
       "      <td>2021-01-03 15:25:37</td>\n",
       "      <td>consumer</td>\n",
       "      <td>Email</td>\n",
       "      <td>WI</td>\n",
       "    </tr>\n",
       "    <tr>\n",
       "      <th>2</th>\n",
       "      <td>{'$oid': '5ff1e194b6a9d73a3a9f1052'}</td>\n",
       "      <td>True</td>\n",
       "      <td>2021-01-03 15:24:04</td>\n",
       "      <td>2021-01-03 15:25:37</td>\n",
       "      <td>consumer</td>\n",
       "      <td>Email</td>\n",
       "      <td>WI</td>\n",
       "    </tr>\n",
       "    <tr>\n",
       "      <th>3</th>\n",
       "      <td>{'$oid': '5ff1e1eacfcf6c399c274ae6'}</td>\n",
       "      <td>True</td>\n",
       "      <td>2021-01-03 15:25:30</td>\n",
       "      <td>2021-01-03 15:25:30</td>\n",
       "      <td>consumer</td>\n",
       "      <td>Email</td>\n",
       "      <td>WI</td>\n",
       "    </tr>\n",
       "    <tr>\n",
       "      <th>4</th>\n",
       "      <td>{'$oid': '5ff1e194b6a9d73a3a9f1052'}</td>\n",
       "      <td>True</td>\n",
       "      <td>2021-01-03 15:24:04</td>\n",
       "      <td>2021-01-03 15:25:37</td>\n",
       "      <td>consumer</td>\n",
       "      <td>Email</td>\n",
       "      <td>WI</td>\n",
       "    </tr>\n",
       "  </tbody>\n",
       "</table>\n",
       "</div>"
      ],
      "text/plain": [
       "                                    _id  active          createdDate  \\\n",
       "0  {'$oid': '5ff1e194b6a9d73a3a9f1052'}    True  2021-01-03 15:24:04   \n",
       "1  {'$oid': '5ff1e194b6a9d73a3a9f1052'}    True  2021-01-03 15:24:04   \n",
       "2  {'$oid': '5ff1e194b6a9d73a3a9f1052'}    True  2021-01-03 15:24:04   \n",
       "3  {'$oid': '5ff1e1eacfcf6c399c274ae6'}    True  2021-01-03 15:25:30   \n",
       "4  {'$oid': '5ff1e194b6a9d73a3a9f1052'}    True  2021-01-03 15:24:04   \n",
       "\n",
       "             lastLogin      role signUpSource state  \n",
       "0  2021-01-03 15:25:37  consumer        Email    WI  \n",
       "1  2021-01-03 15:25:37  consumer        Email    WI  \n",
       "2  2021-01-03 15:25:37  consumer        Email    WI  \n",
       "3  2021-01-03 15:25:30  consumer        Email    WI  \n",
       "4  2021-01-03 15:25:37  consumer        Email    WI  "
      ]
     },
     "execution_count": 68,
     "metadata": {},
     "output_type": "execute_result"
    }
   ],
   "source": [
    "users.head()"
   ]
  },
  {
   "cell_type": "code",
   "execution_count": 69,
   "id": "a1649bc4-4cbf-4c1b-96b5-97094a3b0099",
   "metadata": {},
   "outputs": [
    {
     "data": {
      "text/plain": [
       "createdDate\n",
       "2014-12-19 14:21:22    20\n",
       "2020-12-03 22:08:03    20\n",
       "2021-01-06 15:03:54    18\n",
       "2017-09-19 14:07:54    18\n",
       "2020-11-05 15:17:09    18\n",
       "                       ..\n",
       "2021-02-11 16:17:07     1\n",
       "2021-02-11 16:17:53     1\n",
       "2021-02-12 14:10:49     1\n",
       "2020-11-04 22:29:33     1\n",
       "2017-07-11 15:13:11     1\n",
       "Name: count, Length: 212, dtype: int64"
      ]
     },
     "execution_count": 69,
     "metadata": {},
     "output_type": "execute_result"
    }
   ],
   "source": [
    "users.createdDate.value_counts()"
   ]
  },
  {
   "cell_type": "code",
   "execution_count": 70,
   "id": "cd794aa7-40b6-4d5f-8416-59dd6d4eab3b",
   "metadata": {},
   "outputs": [
    {
     "data": {
      "text/plain": [
       "Timedelta('0 days 00:00:00')"
      ]
     },
     "execution_count": 70,
     "metadata": {},
     "output_type": "execute_result"
    }
   ],
   "source": [
    "users['lastLogin']  = pd.to_datetime(users['lastLogin'])\n",
    "users['createdDate'] = pd.to_datetime(users['createdDate'])\n",
    "users['time_difference'] = users['lastLogin'] - users['createdDate']\n",
    "users['time_difference'].min()"
   ]
  },
  {
   "cell_type": "code",
   "execution_count": 71,
   "id": "cc6ac533-4a1b-448e-ba0f-376873426ad2",
   "metadata": {},
   "outputs": [
    {
     "data": {
      "text/plain": [
       "Timedelta('2268 days 02:31:01')"
      ]
     },
     "execution_count": 71,
     "metadata": {},
     "output_type": "execute_result"
    }
   ],
   "source": [
    "users['time_difference'].max()"
   ]
  },
  {
   "cell_type": "markdown",
   "id": "84301f12-5903-4e39-b3c9-85b1dec4d609",
   "metadata": {},
   "source": [
    "### Analysis of Time Difference Between lastLogin and createdDate\n",
    "Upon reviewing the time differences between the lastLogin and createdDate fields, we observed the following:\n",
    "\n",
    "Maximum Time Difference: The largest time gap between a user’s lastLogin and createdDate is 2268 days.\n",
    "\n",
    "Minimum Time Difference: The smallest time gap is 0 days, indicating that some users logged in immediately after account creation.\n",
    "\n",
    "It is important to note that in all records, the createdDate is always greater than or equal to the lastLogin date, which aligns with expectations and confirms the data integrity. Therefore, there are no significant issues or discrepancies related to the date fields."
   ]
  },
  {
   "cell_type": "code",
   "execution_count": 72,
   "id": "74fb77b9-e74a-4f2d-b64e-a243a42f13df",
   "metadata": {},
   "outputs": [
    {
     "name": "stdout",
     "output_type": "stream",
     "text": [
      "<class 'pandas.core.frame.DataFrame'>\n",
      "RangeIndex: 495 entries, 0 to 494\n",
      "Data columns (total 8 columns):\n",
      " #   Column           Non-Null Count  Dtype          \n",
      "---  ------           --------------  -----          \n",
      " 0   _id              495 non-null    object         \n",
      " 1   active           495 non-null    bool           \n",
      " 2   createdDate      495 non-null    datetime64[ns] \n",
      " 3   lastLogin        433 non-null    datetime64[ns] \n",
      " 4   role             495 non-null    object         \n",
      " 5   signUpSource     447 non-null    object         \n",
      " 6   state            439 non-null    object         \n",
      " 7   time_difference  433 non-null    timedelta64[ns]\n",
      "dtypes: bool(1), datetime64[ns](2), object(4), timedelta64[ns](1)\n",
      "memory usage: 27.7+ KB\n"
     ]
    }
   ],
   "source": [
    "users.info()"
   ]
  },
  {
   "cell_type": "code",
   "execution_count": 74,
   "id": "e2478382-4eab-43f9-981c-bed41dabd454",
   "metadata": {},
   "outputs": [
    {
     "data": {
      "text/plain": [
       "212"
      ]
     },
     "execution_count": 74,
     "metadata": {},
     "output_type": "execute_result"
    }
   ],
   "source": [
    "#checking for unique values of _id. Only 212 _id are unique\n",
    "users_id = set(users['_id'].str['$oid'])\n",
    "len(users_id)"
   ]
  },
  {
   "cell_type": "markdown",
   "id": "225957a4-2594-4db7-a22f-243f87f2da27",
   "metadata": {},
   "source": [
    "### Duplicate Data\n",
    "This implies that there are duplicate _id in the users data"
   ]
  },
  {
   "cell_type": "code",
   "execution_count": 75,
   "id": "0727191f-56f9-467f-8162-7724afb1817f",
   "metadata": {},
   "outputs": [
    {
     "data": {
      "text/plain": [
       "_id                 0\n",
       "active              0\n",
       "createdDate         0\n",
       "lastLogin          62\n",
       "role                0\n",
       "signUpSource       48\n",
       "state              56\n",
       "time_difference    62\n",
       "dtype: int64"
      ]
     },
     "execution_count": 75,
     "metadata": {},
     "output_type": "execute_result"
    }
   ],
   "source": [
    "#total null values per column\n",
    "users.isnull().sum()"
   ]
  },
  {
   "cell_type": "code",
   "execution_count": 76,
   "id": "eae3128a-5d99-420d-9da9-5487b4f65993",
   "metadata": {},
   "outputs": [
    {
     "data": {
      "text/plain": [
       "role\n",
       "consumer       83.434343\n",
       "fetch-staff    16.565657\n",
       "Name: count, dtype: float64"
      ]
     },
     "execution_count": 76,
     "metadata": {},
     "output_type": "execute_result"
    }
   ],
   "source": [
    "#Roles percentage split\n",
    "role_percentage = 100 * (users.role.value_counts() / len(users))\n",
    "role_percentage"
   ]
  },
  {
   "cell_type": "markdown",
   "id": "89923c5f-9183-419f-b61d-9b5fa966655c",
   "metadata": {},
   "source": [
    "Consumer make up ~83% of user Signups, and the rest are Signups by Fetch Staff"
   ]
  },
  {
   "cell_type": "code",
   "execution_count": 77,
   "id": "fb9147ef-9d6f-4989-876d-1358bcce8c21",
   "metadata": {},
   "outputs": [
    {
     "data": {
      "text/plain": [
       "active\n",
       "True     494\n",
       "False      1\n",
       "Name: count, dtype: int64"
      ]
     },
     "execution_count": 77,
     "metadata": {},
     "output_type": "execute_result"
    }
   ],
   "source": [
    "#Most of the users are Active, with the exception of 1\n",
    "users.active.value_counts()"
   ]
  },
  {
   "cell_type": "code",
   "execution_count": 79,
   "id": "b24b6b84-dbce-4330-92b5-4fba6f04eb3a",
   "metadata": {},
   "outputs": [
    {
     "data": {
      "text/plain": [
       "state\n",
       "WI    396\n",
       "NH     20\n",
       "AL     12\n",
       "OH      5\n",
       "IL      3\n",
       "KY      1\n",
       "CO      1\n",
       "SC      1\n",
       "Name: count, dtype: int64"
      ]
     },
     "execution_count": 79,
     "metadata": {},
     "output_type": "execute_result"
    }
   ],
   "source": [
    "#Count of Users belonging to respective states\n",
    "users.state.value_counts()"
   ]
  },
  {
   "cell_type": "code",
   "execution_count": 80,
   "id": "98da35cd-c5c5-445a-a32b-c6fcabad3f92",
   "metadata": {},
   "outputs": [
    {
     "data": {
      "text/plain": [
       "state\n",
       "WI    80.000000\n",
       "NH     4.040404\n",
       "AL     2.424242\n",
       "OH     1.010101\n",
       "IL     0.606061\n",
       "KY     0.202020\n",
       "CO     0.202020\n",
       "SC     0.202020\n",
       "Name: count, dtype: float64"
      ]
     },
     "execution_count": 80,
     "metadata": {},
     "output_type": "execute_result"
    }
   ],
   "source": [
    "state_percentage = 100 * (users.state.value_counts() / len(users))\n",
    "state_percentage"
   ]
  },
  {
   "cell_type": "markdown",
   "id": "4f6a85b0-ce62-479c-9e22-585aea064bdb",
   "metadata": {},
   "source": [
    "Maximum(80%) of the users that signed up are from Wisconsin. There are a total of 8 states from which the users are present"
   ]
  },
  {
   "cell_type": "markdown",
   "id": "ed45b791-8618-42a9-b867-ae80748946d1",
   "metadata": {},
   "source": [
    "lastLogin and createdDate had a Unix timestamp format, which had to be converted to datetime format; also, lastLogin has a lot of nan values"
   ]
  },
  {
   "cell_type": "markdown",
   "id": "68a299ab-1748-4f2e-a5bb-bbdae1166c11",
   "metadata": {},
   "source": [
    "### Users Data Quality Issues:\n",
    "\n",
    "1. Missing/Null values for columns - lastLogin, signUpSource, state\n",
    "2. Check for Duplicates in Specific Columns - _id column is not unique and has a lot of duplicate data, which is a major issue\n",
    "3. lostLogin and createDate are in a UNIX timestamp, which had to be converted into datetime format\n",
    "4. Check for Consistency in Categorical Data - For columns state,role, and active using value_counts() and nunique()"
   ]
  },
  {
   "cell_type": "markdown",
   "id": "2c29105c-3c0c-4025-aadf-4c9fbb1396fa",
   "metadata": {},
   "source": [
    "### BRAND DATA"
   ]
  },
  {
   "cell_type": "code",
   "execution_count": 83,
   "id": "118d1cf6-acbe-47a6-b4f3-388451036581",
   "metadata": {},
   "outputs": [],
   "source": [
    "#Loading the brand data\n",
    "brands = pd.read_json(r'brands.json', lines=True, encoding='utf-8')"
   ]
  },
  {
   "cell_type": "code",
   "execution_count": 84,
   "id": "6e3a9b8f-db3c-4ba2-9dfa-602aa7830df0",
   "metadata": {},
   "outputs": [
    {
     "data": {
      "text/html": [
       "<div>\n",
       "<style scoped>\n",
       "    .dataframe tbody tr th:only-of-type {\n",
       "        vertical-align: middle;\n",
       "    }\n",
       "\n",
       "    .dataframe tbody tr th {\n",
       "        vertical-align: top;\n",
       "    }\n",
       "\n",
       "    .dataframe thead th {\n",
       "        text-align: right;\n",
       "    }\n",
       "</style>\n",
       "<table border=\"1\" class=\"dataframe\">\n",
       "  <thead>\n",
       "    <tr style=\"text-align: right;\">\n",
       "      <th></th>\n",
       "      <th>_id</th>\n",
       "      <th>barcode</th>\n",
       "      <th>category</th>\n",
       "      <th>categoryCode</th>\n",
       "      <th>cpg</th>\n",
       "      <th>name</th>\n",
       "      <th>topBrand</th>\n",
       "      <th>brandCode</th>\n",
       "    </tr>\n",
       "  </thead>\n",
       "  <tbody>\n",
       "    <tr>\n",
       "      <th>0</th>\n",
       "      <td>{'$oid': '601ac115be37ce2ead437551'}</td>\n",
       "      <td>511111019862</td>\n",
       "      <td>Baking</td>\n",
       "      <td>BAKING</td>\n",
       "      <td>{'$id': {'$oid': '601ac114be37ce2ead437550'}, ...</td>\n",
       "      <td>test brand @1612366101024</td>\n",
       "      <td>0.0</td>\n",
       "      <td>NaN</td>\n",
       "    </tr>\n",
       "    <tr>\n",
       "      <th>1</th>\n",
       "      <td>{'$oid': '601c5460be37ce2ead43755f'}</td>\n",
       "      <td>511111519928</td>\n",
       "      <td>Beverages</td>\n",
       "      <td>BEVERAGES</td>\n",
       "      <td>{'$id': {'$oid': '5332f5fbe4b03c9a25efd0ba'}, ...</td>\n",
       "      <td>Starbucks</td>\n",
       "      <td>0.0</td>\n",
       "      <td>STARBUCKS</td>\n",
       "    </tr>\n",
       "    <tr>\n",
       "      <th>2</th>\n",
       "      <td>{'$oid': '601ac142be37ce2ead43755d'}</td>\n",
       "      <td>511111819905</td>\n",
       "      <td>Baking</td>\n",
       "      <td>BAKING</td>\n",
       "      <td>{'$id': {'$oid': '601ac142be37ce2ead437559'}, ...</td>\n",
       "      <td>test brand @1612366146176</td>\n",
       "      <td>0.0</td>\n",
       "      <td>TEST BRANDCODE @1612366146176</td>\n",
       "    </tr>\n",
       "    <tr>\n",
       "      <th>3</th>\n",
       "      <td>{'$oid': '601ac142be37ce2ead43755a'}</td>\n",
       "      <td>511111519874</td>\n",
       "      <td>Baking</td>\n",
       "      <td>BAKING</td>\n",
       "      <td>{'$id': {'$oid': '601ac142be37ce2ead437559'}, ...</td>\n",
       "      <td>test brand @1612366146051</td>\n",
       "      <td>0.0</td>\n",
       "      <td>TEST BRANDCODE @1612366146051</td>\n",
       "    </tr>\n",
       "    <tr>\n",
       "      <th>4</th>\n",
       "      <td>{'$oid': '601ac142be37ce2ead43755e'}</td>\n",
       "      <td>511111319917</td>\n",
       "      <td>Candy &amp; Sweets</td>\n",
       "      <td>CANDY_AND_SWEETS</td>\n",
       "      <td>{'$id': {'$oid': '5332fa12e4b03c9a25efd1e7'}, ...</td>\n",
       "      <td>test brand @1612366146827</td>\n",
       "      <td>0.0</td>\n",
       "      <td>TEST BRANDCODE @1612366146827</td>\n",
       "    </tr>\n",
       "  </tbody>\n",
       "</table>\n",
       "</div>"
      ],
      "text/plain": [
       "                                    _id       barcode        category  \\\n",
       "0  {'$oid': '601ac115be37ce2ead437551'}  511111019862          Baking   \n",
       "1  {'$oid': '601c5460be37ce2ead43755f'}  511111519928       Beverages   \n",
       "2  {'$oid': '601ac142be37ce2ead43755d'}  511111819905          Baking   \n",
       "3  {'$oid': '601ac142be37ce2ead43755a'}  511111519874          Baking   \n",
       "4  {'$oid': '601ac142be37ce2ead43755e'}  511111319917  Candy & Sweets   \n",
       "\n",
       "       categoryCode                                                cpg  \\\n",
       "0            BAKING  {'$id': {'$oid': '601ac114be37ce2ead437550'}, ...   \n",
       "1         BEVERAGES  {'$id': {'$oid': '5332f5fbe4b03c9a25efd0ba'}, ...   \n",
       "2            BAKING  {'$id': {'$oid': '601ac142be37ce2ead437559'}, ...   \n",
       "3            BAKING  {'$id': {'$oid': '601ac142be37ce2ead437559'}, ...   \n",
       "4  CANDY_AND_SWEETS  {'$id': {'$oid': '5332fa12e4b03c9a25efd1e7'}, ...   \n",
       "\n",
       "                        name  topBrand                      brandCode  \n",
       "0  test brand @1612366101024       0.0                            NaN  \n",
       "1                  Starbucks       0.0                      STARBUCKS  \n",
       "2  test brand @1612366146176       0.0  TEST BRANDCODE @1612366146176  \n",
       "3  test brand @1612366146051       0.0  TEST BRANDCODE @1612366146051  \n",
       "4  test brand @1612366146827       0.0  TEST BRANDCODE @1612366146827  "
      ]
     },
     "execution_count": 84,
     "metadata": {},
     "output_type": "execute_result"
    }
   ],
   "source": [
    "brands.head()"
   ]
  },
  {
   "cell_type": "code",
   "execution_count": 85,
   "id": "5bb1315d-7181-43ba-ba60-d8edf0e37de9",
   "metadata": {},
   "outputs": [
    {
     "name": "stdout",
     "output_type": "stream",
     "text": [
      "<class 'pandas.core.frame.DataFrame'>\n",
      "RangeIndex: 1167 entries, 0 to 1166\n",
      "Data columns (total 8 columns):\n",
      " #   Column        Non-Null Count  Dtype  \n",
      "---  ------        --------------  -----  \n",
      " 0   _id           1167 non-null   object \n",
      " 1   barcode       1167 non-null   int64  \n",
      " 2   category      1012 non-null   object \n",
      " 3   categoryCode  517 non-null    object \n",
      " 4   cpg           1167 non-null   object \n",
      " 5   name          1167 non-null   object \n",
      " 6   topBrand      555 non-null    float64\n",
      " 7   brandCode     933 non-null    object \n",
      "dtypes: float64(1), int64(1), object(6)\n",
      "memory usage: 73.1+ KB\n"
     ]
    }
   ],
   "source": [
    "brands.info()"
   ]
  },
  {
   "cell_type": "code",
   "execution_count": 86,
   "id": "25a82a26-cd19-4b62-907e-6f050f20666b",
   "metadata": {},
   "outputs": [
    {
     "name": "stdout",
     "output_type": "stream",
     "text": [
      "_id              0.000000\n",
      "barcode          0.000000\n",
      "category        13.281919\n",
      "categoryCode    55.698372\n",
      "cpg              0.000000\n",
      "name             0.000000\n",
      "topBrand        52.442159\n",
      "brandCode       20.051414\n",
      "dtype: float64\n"
     ]
    }
   ],
   "source": [
    "# Calculate the percentage of null values in each column\n",
    "null_percentage = brands.isnull().mean() * 100\n",
    "print(null_percentage)"
   ]
  },
  {
   "cell_type": "markdown",
   "id": "f4517ccf-f9a4-425f-a8a5-66bc874f70f4",
   "metadata": {},
   "source": [
    "Huge Number of Null percentage - 55% category code and 52% of topBrand are missing"
   ]
  },
  {
   "cell_type": "code",
   "execution_count": 87,
   "id": "61971c07-dd90-41b3-82e1-4ed3999a3350",
   "metadata": {},
   "outputs": [
    {
     "data": {
      "text/plain": [
       "np.int64(1012)"
      ]
     },
     "execution_count": 87,
     "metadata": {},
     "output_type": "execute_result"
    }
   ],
   "source": [
    "brands.category.value_counts().sum()"
   ]
  },
  {
   "cell_type": "code",
   "execution_count": 88,
   "id": "74acb7f8-090e-4902-89be-783bbb9c57b3",
   "metadata": {},
   "outputs": [
    {
     "data": {
      "text/plain": [
       "category\n",
       "Baking                         31.619537\n",
       "Beer Wine Spirits               7.712082\n",
       "Snacks                          6.426735\n",
       "Candy & Sweets                  6.083976\n",
       "Beverages                       5.398458\n",
       "Magazines                       3.770351\n",
       "Health & Wellness               3.770351\n",
       "Breakfast & Cereal              3.427592\n",
       "Grocery                         3.341902\n",
       "Dairy                           2.827763\n",
       "Condiments & Sauces             2.313625\n",
       "Frozen                          2.056555\n",
       "Personal Care                   1.713796\n",
       "Baby                            1.542416\n",
       "Canned Goods & Soups            1.028278\n",
       "Beauty                          0.771208\n",
       "Beauty & Personal Care          0.514139\n",
       "Cleaning & Home Improvement     0.514139\n",
       "Deli                            0.514139\n",
       "Household                       0.428449\n",
       "Bread & Bakery                  0.428449\n",
       "Dairy & Refrigerated            0.428449\n",
       "Outdoor                         0.085690\n",
       "Name: count, dtype: float64"
      ]
     },
     "execution_count": 88,
     "metadata": {},
     "output_type": "execute_result"
    }
   ],
   "source": [
    "#Categories Percentage\n",
    "category_percentage = 100 * (brands.category.value_counts() / len(brands))\n",
    "category_percentage"
   ]
  },
  {
   "cell_type": "markdown",
   "id": "c01d2fff-c5e4-4358-9e85-b59166996a2a",
   "metadata": {},
   "source": [
    "Baking is the category with the most records(31%)"
   ]
  },
  {
   "cell_type": "code",
   "execution_count": 89,
   "id": "02ea5c01-e23a-46f9-9c14-c1b5786ffe81",
   "metadata": {},
   "outputs": [
    {
     "data": {
      "text/plain": [
       "brandCode\n",
       "                                 35\n",
       "HUGGIES                           2\n",
       "GOODNITES                         2\n",
       "TEST BRANDCODE @1612366146051     1\n",
       "TEST BRANDCODE @1612366146827     1\n",
       "                                 ..\n",
       "BLUE MOON                         1\n",
       "DIPPIN DOTS CEREAL                1\n",
       "TEST BRANDCODE @1598639215217     1\n",
       "LIPTON TEA Leaves                 1\n",
       "IZZE                              1\n",
       "Name: count, Length: 897, dtype: int64"
      ]
     },
     "execution_count": 89,
     "metadata": {},
     "output_type": "execute_result"
    }
   ],
   "source": [
    "brands.brandCode.value_counts()"
   ]
  },
  {
   "cell_type": "markdown",
   "id": "ffa9a9f5-9edb-4cbc-84dd-8b5df63291f7",
   "metadata": {},
   "source": [
    "brandCode having most counts is null or missing"
   ]
  },
  {
   "cell_type": "code",
   "execution_count": 90,
   "id": "1f7c78b2-518b-4fec-874e-2745d69e9a77",
   "metadata": {},
   "outputs": [
    {
     "name": "stdout",
     "output_type": "stream",
     "text": [
      "Empty DataFrame\n",
      "Columns: [_id, barcode, category, categoryCode, cpg, name, topBrand, brandCode]\n",
      "Index: []\n"
     ]
    }
   ],
   "source": [
    "# Check for duplicates in the entire DataFrame\n",
    "duplicates = brands[brands['_id'].str['$oid'].duplicated()]\n",
    "\n",
    "# Display duplicates\n",
    "print(duplicates)"
   ]
  },
  {
   "cell_type": "markdown",
   "id": "5d9ffd3a-8821-4687-87e2-f85fe3a4b437",
   "metadata": {},
   "source": [
    "None of the _id values in the dictionary column are duplicated in brands dataframe"
   ]
  },
  {
   "cell_type": "markdown",
   "id": "206a6939-41ef-43a0-94a9-36455c81f0f2",
   "metadata": {},
   "source": [
    "### Brand Data Quality Check Summary:\n",
    "\n",
    "1. Missing Data - columns like topBrand and categoryCode have huge number of missing data\n",
    "2. Check for Duplicates in Specific Columns - None of the _id values in the dictionary column are duplicated in brands dataframe\n",
    "3. Check for Consistency in Categorical Data - For columns brandCode using value_counts() and nunique()"
   ]
  }
 ],
 "metadata": {
  "kernelspec": {
   "display_name": "Python 3 (ipykernel)",
   "language": "python",
   "name": "python3"
  },
  "language_info": {
   "codemirror_mode": {
    "name": "ipython",
    "version": 3
   },
   "file_extension": ".py",
   "mimetype": "text/x-python",
   "name": "python",
   "nbconvert_exporter": "python",
   "pygments_lexer": "ipython3",
   "version": "3.9.5"
  }
 },
 "nbformat": 4,
 "nbformat_minor": 5
}
